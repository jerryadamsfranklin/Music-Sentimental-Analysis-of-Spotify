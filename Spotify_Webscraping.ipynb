{
 "cells": [
  {
   "cell_type": "code",
   "execution_count": 3,
   "metadata": {},
   "outputs": [],
   "source": [
    "from spotipy.oauth2 import SpotifyClientCredentials\n",
    "import spotipy\n",
    "import json\n",
    "import csv"
   ]
  },
  {
   "cell_type": "code",
   "execution_count": 4,
   "metadata": {},
   "outputs": [],
   "source": [
    "#Loading in my credentials which would help me use the Spotify Web API\n",
    "client_credentials_manager = \\\n",
    "    SpotifyClientCredentials(client_id='********************************',\n",
    "                             client_secret='****************************')\n",
    "\n",
    "sp = spotipy.Spotify(client_credentials_manager=client_credentials_manager)\n"
   ]
  },
  {
   "cell_type": "code",
   "execution_count": 5,
   "metadata": {},
   "outputs": [],
   "source": [
    "#Method used to pull out the audio features of each song and return them\n",
    "def get_features(track_id):\n",
    "    features_results = sp.audio_features(track_id)\n",
    "    json_features = json.dumps(features_results)\n",
    "    features_data = json.loads(json_features)\n",
    "    features_list = list(features_data[0].values())\n",
    "    return features_list\n"
   ]
  },
  {
   "cell_type": "code",
   "execution_count": 6,
   "metadata": {},
   "outputs": [],
   "source": [
    "# Write data to CSV file\n",
    "data_file = open('data.csv','w', encoding='utf-8')\n",
    "\n",
    "writer = csv.writer(data_file)\n",
    "\n"
   ]
  },
  {
   "cell_type": "code",
   "execution_count": 7,
   "metadata": {},
   "outputs": [],
   "source": [
    "# a list of all the audio features provided by Spotify\n",
    "feature_names = [\n",
    "    \"danceability\",\n",
    "    \"energy\",\n",
    "    \"key\",\n",
    "    \"loudness\",\n",
    "    \"mode\",\n",
    "    \"speechiness\",\n",
    "    \"acousticness\",\n",
    "    \"instrumentalness\",\n",
    "    \"liveness\",\n",
    "    \"valence\",\n",
    "    \"tempo\",\n",
    "    \"type\",\n",
    "    \"id\",\n",
    "    \"uri\",\n",
    "    \"track_href\",\n",
    "    \"analysis_url\",\n",
    "    \"duration_ms\",\n",
    "    \"time_signature\"\n",
    "]\n",
    "\n",
    "username = 'lfuimmuvzu10x66emvtu4jnqv'"
   ]
  },
  {
   "cell_type": "code",
   "execution_count": 8,
   "metadata": {},
   "outputs": [
    {
     "name": "stdout",
     "output_type": "stream",
     "text": [
      "Querying playlist: 37i9dQZF1DX1HUbZS4LEyL\n"
     ]
    }
   ],
   "source": [
    "# Write header\n",
    "writer.writerow(['track_id', 'playlist_id', 'date_added', 'track_name', 'first_artist'] + feature_names)\n",
    "\n",
    "#the id of the playlist that contains the Top Tracks of 2018\n",
    "playlist_id = \"37i9dQZF1DX1HUbZS4LEyL\"\n",
    "\n",
    "print('Querying playlist: ' + str(playlist_id))"
   ]
  },
  {
   "cell_type": "code",
   "execution_count": 9,
   "metadata": {},
   "outputs": [
    {
     "name": "stdout",
     "output_type": "stream",
     "text": [
      "Repeating query\n",
      "Done querying\n"
     ]
    }
   ],
   "source": [
    "repeat_query = True\n",
    "offset_n = 0\n",
    "for i in range(2):\n",
    "    # Query Spotify API\n",
    "    if i > 0:\n",
    "        print('Repeating query')\n",
    "        offset_n += 50\n",
    "    #pulls out all the tracks of a given playlist\n",
    "    results = sp.user_playlist_tracks(username, playlist_id, offset=offset_n)\n",
    "    json_results = json.dumps(results)\n",
    "    data = json.loads(json_results)\n",
    "\n",
    "    # Stores all the pulled out values into a list so that it is easier to write\n",
    "    #  into a csv file\n",
    "    for track in data['items']:\n",
    "        track_id = track['track']['id']\n",
    "        date_added = track['added_at']\n",
    "        track_name = track['track']['name']\n",
    "        first_artist = track['track']['artists'][0]['name']\n",
    "\n",
    "        # Track features\n",
    "        features = get_features(track_id)\n",
    "\n",
    "        #writes rows into the csv file\n",
    "        try:\n",
    "            writer.writerow([track_id, playlist_id, date_added, track_name, first_artist] + features)\n",
    "        except:\n",
    "            print(\"error in csv writting\")\n",
    "\n",
    "print('Done querying')\n"
   ]
  },
  {
   "cell_type": "code",
   "execution_count": 10,
   "metadata": {},
   "outputs": [],
   "source": [
    "#closes the file\n",
    "data_file.close()\n"
   ]
  }
 ],
 "metadata": {
  "kernelspec": {
   "display_name": "Python 3",
   "language": "python",
   "name": "python3"
  },
  "language_info": {
   "codemirror_mode": {
    "name": "ipython",
    "version": 3
   },
   "file_extension": ".py",
   "mimetype": "text/x-python",
   "name": "python",
   "nbconvert_exporter": "python",
   "pygments_lexer": "ipython3",
   "version": "3.7.6"
  }
 },
 "nbformat": 4,
 "nbformat_minor": 4
}
